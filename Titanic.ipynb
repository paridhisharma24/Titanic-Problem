{
 "cells": [
  {
   "cell_type": "code",
   "execution_count": 66,
   "metadata": {},
   "outputs": [],
   "source": [
    "import pandas as pd\n",
    "from sklearn.metrics import accuracy_score\n",
    "from sklearn.tree import DecisionTreeClassifier\n",
    "from sklearn.model_selection import train_test_split"
   ]
  },
  {
   "cell_type": "code",
   "execution_count": 67,
   "metadata": {},
   "outputs": [],
   "source": [
    "def clean(a, i):\n",
    "    file = pd.read_csv(a)\n",
    "    if i == 0:\n",
    "        X = file[['Age','Pclass', 'Sex', 'Parch', 'SibSp','Survived']]\n",
    "    else:\n",
    "        X = file[['Age','Pclass', 'Sex', 'Parch', 'SibSp']]\n",
    "    X = X.dropna()\n",
    "    X = X.replace('male', 0)\n",
    "    X = X.replace('female', 1)\n",
    "    if i == 0:\n",
    "        y = X['Survived']\n",
    "    else:\n",
    "        y = 0\n",
    "    x = X[['Age','Pclass', 'Sex', 'Parch', 'SibSp']]\n",
    "    return x, y"
   ]
  },
  {
   "cell_type": "code",
   "execution_count": 68,
   "metadata": {},
   "outputs": [],
   "source": [
    "location = 'D:/study/dataset/titanic/train.csv'\n",
    "i = 0\n",
    "x, y = clean(location, i)\n",
    "i += 1"
   ]
  },
  {
   "cell_type": "code",
   "execution_count": 69,
   "metadata": {},
   "outputs": [],
   "source": [
    "X_train, X_test, y_train, y_test = train_test_split(x, y)"
   ]
  },
  {
   "cell_type": "code",
   "execution_count": 70,
   "metadata": {},
   "outputs": [
    {
     "data": {
      "text/plain": [
       "DecisionTreeClassifier(ccp_alpha=0.001, class_weight=None, criterion='gini',\n",
       "                       max_depth=50, max_features=None, max_leaf_nodes=None,\n",
       "                       min_impurity_decrease=0.0, min_impurity_split=None,\n",
       "                       min_samples_leaf=10, min_samples_split=5,\n",
       "                       min_weight_fraction_leaf=0.0, presort='deprecated',\n",
       "                       random_state=None, splitter='best')"
      ]
     },
     "execution_count": 70,
     "metadata": {},
     "output_type": "execute_result"
    }
   ],
   "source": [
    "clf = DecisionTreeClassifier(max_depth = 50, min_samples_split = 5, min_samples_leaf = 10, ccp_alpha = 0.001)\n",
    "clf.fit(x, y)"
   ]
  },
  {
   "cell_type": "code",
   "execution_count": 71,
   "metadata": {},
   "outputs": [
    {
     "data": {
      "text/plain": [
       "0.8435754189944135"
      ]
     },
     "execution_count": 71,
     "metadata": {},
     "output_type": "execute_result"
    }
   ],
   "source": [
    "p = clf.predict(X_test)\n",
    "accuracy_score(y_test, p)"
   ]
  },
  {
   "cell_type": "code",
   "execution_count": 72,
   "metadata": {},
   "outputs": [],
   "source": [
    "b = 'D:/study/dataset/titanic/test.csv'\n",
    "X_test, y = clean(b, i)"
   ]
  },
  {
   "cell_type": "code",
   "execution_count": 73,
   "metadata": {},
   "outputs": [],
   "source": [
    "p = clf.predict(X_test)"
   ]
  },
  {
   "cell_type": "code",
   "execution_count": 74,
   "metadata": {},
   "outputs": [],
   "source": [
    "df = pd.DataFrame(columns =['PassengerId', 'Survived'])"
   ]
  },
  {
   "cell_type": "code",
   "execution_count": 75,
   "metadata": {},
   "outputs": [],
   "source": [
    "l = X_test.index\n",
    "df['PassengerId'] = l\n",
    "df['Survived'] = p"
   ]
  },
  {
   "cell_type": "code",
   "execution_count": 76,
   "metadata": {},
   "outputs": [],
   "source": [
    "l1 = []\n",
    "temp = []\n",
    "for x in range(418):\n",
    "    temp.append(x+892)\n",
    "    if x not in l:\n",
    "        l1.append(x)"
   ]
  },
  {
   "cell_type": "code",
   "execution_count": 77,
   "metadata": {},
   "outputs": [],
   "source": [
    "df1 = pd.DataFrame(columns =['PassengerId', 'Survived'])\n",
    "df1['PassengerId'] = l1\n",
    "df1['Survived'] = 0"
   ]
  },
  {
   "cell_type": "code",
   "execution_count": 78,
   "metadata": {},
   "outputs": [
    {
     "name": "stdout",
     "output_type": "stream",
     "text": [
      "0       892\n",
      "1       893\n",
      "2       894\n",
      "3       895\n",
      "4       896\n",
      "       ... \n",
      "83     1305\n",
      "330    1306\n",
      "331    1307\n",
      "84     1308\n",
      "85     1309\n",
      "Name: PassengerId, Length: 418, dtype: int64\n"
     ]
    }
   ],
   "source": [
    "df = df.append(df1)\n",
    "df = df.sort_values('PassengerId')\n",
    "df['PassengerId'] = temp"
   ]
  },
  {
   "cell_type": "code",
   "execution_count": 79,
   "metadata": {},
   "outputs": [],
   "source": [
    "df.to_csv('file.csv', index = False)"
   ]
  },
  {
   "cell_type": "code",
   "execution_count": null,
   "metadata": {},
   "outputs": [],
   "source": []
  }
 ],
 "metadata": {
  "kernelspec": {
   "display_name": "Python 3",
   "language": "python",
   "name": "python3"
  },
  "language_info": {
   "codemirror_mode": {
    "name": "ipython",
    "version": 3
   },
   "file_extension": ".py",
   "mimetype": "text/x-python",
   "name": "python",
   "nbconvert_exporter": "python",
   "pygments_lexer": "ipython3",
   "version": "3.7.6"
  }
 },
 "nbformat": 4,
 "nbformat_minor": 4
}
